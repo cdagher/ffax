{
 "cells": [
  {
   "cell_type": "code",
   "execution_count": 1,
   "metadata": {},
   "outputs": [],
   "source": [
    "import numpy as np\n",
    "from matplotlib import pyplot as plt\n",
    "\n",
    "import equinox as eqx\n",
    "import jax\n",
    "import jax.numpy as jnp\n",
    "import jax.random as jr\n",
    "import optax  # https://github.com/deepmind/optax\n",
    "import torch  # https://pytorch.org\n",
    "import torchvision  # https://pytorch.org\n",
    "from jaxtyping import Array, Float, Int, PyTree  # https://github.com/google/jaxtyping"
   ]
  },
  {
   "cell_type": "code",
   "execution_count": 2,
   "metadata": {},
   "outputs": [],
   "source": [
    "from nn import Module, Network"
   ]
  },
  {
   "cell_type": "code",
   "execution_count": 3,
   "metadata": {},
   "outputs": [],
   "source": [
    "# Hyperparameters\n",
    "\n",
    "BATCH_SIZE = 100\n",
    "LEARNING_RATE = 1e-3\n",
    "STEPS = 1000\n",
    "PRINT_EVERY = 30\n",
    "SEED = 1234"
   ]
  },
  {
   "cell_type": "code",
   "execution_count": 4,
   "metadata": {},
   "outputs": [],
   "source": [
    "normalise_data = torchvision.transforms.Compose(\n",
    "    [\n",
    "        torchvision.transforms.ToTensor(),\n",
    "        torchvision.transforms.Normalize((0.5,), (0.5,)),\n",
    "    ]\n",
    ")\n",
    "train_dataset = torchvision.datasets.MNIST(\n",
    "    \"MNIST\",\n",
    "    train=True,\n",
    "    download=True,\n",
    "    transform=normalise_data,\n",
    ")\n",
    "test_dataset = torchvision.datasets.MNIST(\n",
    "    \"MNIST\",\n",
    "    train=False,\n",
    "    download=True,\n",
    "    transform=normalise_data,\n",
    ")\n",
    "trainloader = torch.utils.data.DataLoader(\n",
    "    train_dataset, batch_size=BATCH_SIZE, shuffle=True\n",
    ")\n",
    "testloader = torch.utils.data.DataLoader(\n",
    "    test_dataset, batch_size=BATCH_SIZE, shuffle=True\n",
    ")"
   ]
  },
  {
   "cell_type": "code",
   "execution_count": 13,
   "metadata": {},
   "outputs": [
    {
     "name": "stdout",
     "output_type": "stream",
     "text": [
      "Network(\n",
      "goodness: 0.0,\n",
      "trainable layers: [0, 1, 2],\n",
      "optimizer: GradientTransformationExtraArgs(init=<function chain.<locals>.init_fn at 0x7fa88fdfb240>, update=<function chain.<locals>.update_fn at 0x7fa88fdfbc40>),\n",
      "Layer 0: Module(\n",
      "  _layer=Linear(\n",
      "    weight=f32[500,784],\n",
      "    bias=f32[500],\n",
      "    in_features=784,\n",
      "    out_features=500,\n",
      "    use_bias=True\n",
      "  ),\n",
      "  _activation=<function <lambda>>,\n",
      "  _goodness_fn=<function <lambda>>,\n",
      "  _opt_state=None,\n",
      "  _theta=2.0\n",
      "),\n",
      "Layer 1: Module(\n",
      "  _layer=Linear(\n",
      "    weight=f32[500,500],\n",
      "    bias=f32[500],\n",
      "    in_features=500,\n",
      "    out_features=500,\n",
      "    use_bias=True\n",
      "  ),\n",
      "  _activation=<function <lambda>>,\n",
      "  _goodness_fn=<function <lambda>>,\n",
      "  _opt_state=None,\n",
      "  _theta=2.0\n",
      "),\n",
      "Layer 2: Module(\n",
      "  _layer=Linear(\n",
      "    weight=f32[10,500],\n",
      "    bias=f32[10],\n",
      "    in_features=500,\n",
      "    out_features=10,\n",
      "    use_bias=True\n",
      "  ),\n",
      "  _activation=<function <lambda>>,\n",
      "  _goodness_fn=<function <lambda>>,\n",
      "  _opt_state=None,\n",
      "  _theta=2.0\n",
      "),\n",
      ")\n"
     ]
    }
   ],
   "source": [
    "layer1 = Module(\n",
    "    eqx.nn.Linear(\n",
    "        in_features=28*28,\n",
    "        out_features=500,\n",
    "        key=jr.PRNGKey(SEED)\n",
    "    )\n",
    ")\n",
    "layer2 = Module(\n",
    "    eqx.nn.Linear(\n",
    "        in_features=500,\n",
    "        out_features=500,\n",
    "        key=jr.PRNGKey(SEED)\n",
    "    )\n",
    ")\n",
    "layer3 = Module(\n",
    "    eqx.nn.Linear(\n",
    "        in_features=500,\n",
    "        out_features=10,\n",
    "        key=jr.PRNGKey(SEED)\n",
    "    )\n",
    ")\n",
    "\n",
    "model = Network(\n",
    "    [layer1, layer2, layer3],\n",
    "    optax.adam(LEARNING_RATE)\n",
    ")\n",
    "\n",
    "print(model)"
   ]
  },
  {
   "cell_type": "code",
   "execution_count": 6,
   "metadata": {},
   "outputs": [
    {
     "name": "stdout",
     "output_type": "stream",
     "text": [
      "(100, 1, 28, 28)\n",
      "(100,)\n"
     ]
    }
   ],
   "source": [
    "dummy_x, dummy_y = next(iter(trainloader))\n",
    "dummy_x = dummy_x.numpy()\n",
    "dummy_y = dummy_y.numpy()\n",
    "print(dummy_x.shape)  # BATCH_SIZEx1x28x28\n",
    "print(dummy_y.shape)  # BATCH_SIZE"
   ]
  },
  {
   "cell_type": "code",
   "execution_count": 7,
   "metadata": {},
   "outputs": [],
   "source": [
    "def overlay_y_on_x(x: Array, y: Array):\n",
    "    \"\"\"\n",
    "    Replace the first 10 pixels of data [x] with one-hot-encoded label [y]\n",
    "    \"\"\"\n",
    "    x_ = jnp.ravel(x)\n",
    "    x_ = x_.at[:10].set(jax.nn.one_hot(y, 10))\n",
    "    # x_ = x_.at[:10].set(jnp.zeros((10,)))\n",
    "    # x_ = x_.at[y.item()].set(1)\n",
    "\n",
    "    return x_.reshape(x.shape)\n",
    "\n",
    "if BATCH_SIZE > 1:\n",
    "    overlay_y_on_x = eqx.filter_vmap(overlay_y_on_x)"
   ]
  },
  {
   "cell_type": "code",
   "execution_count": 8,
   "metadata": {},
   "outputs": [],
   "source": [
    "def permute_label(y: Array):\n",
    "    return jax.random.permutation(jr.PRNGKey(SEED), y)"
   ]
  },
  {
   "cell_type": "code",
   "execution_count": 9,
   "metadata": {},
   "outputs": [
    {
     "data": {
      "image/png": "[encoded data removed]",
      "text/plain": [
       "<Figure size 640x480 with 2 Axes>"
      ]
     },
     "metadata": {},
     "output_type": "display_data"
    }
   ],
   "source": [
    "dummy_x_p = overlay_y_on_x(np.squeeze(dummy_x), dummy_y)\n",
    "dummy_x_n = overlay_y_on_x(np.squeeze(dummy_x), permute_label(dummy_y))\n",
    "\n",
    "if BATCH_SIZE > 1:\n",
    "    show = (dummy_x_p[0], dummy_x_n[0])\n",
    "else:\n",
    "    show = (dummy_x_p, dummy_x_n)\n",
    "\n",
    "ax = plt.subplot(1, 2, 1)\n",
    "ax.set_xticks([])\n",
    "ax.set_yticks([])\n",
    "ax.imshow(show[0], cmap='gray')\n",
    "ax.set_title(\"Correct label\")\n",
    "ax = plt.subplot(1, 2, 2)\n",
    "ax.set_xticks([])\n",
    "ax.set_yticks([])\n",
    "ax.imshow(show[1], cmap='gray')\n",
    "ax.set_title(\"Incorrect label\")\n",
    "plt.show()"
   ]
  },
  {
   "cell_type": "code",
   "execution_count": 14,
   "metadata": {},
   "outputs": [
    {
     "name": "stdout",
     "output_type": "stream",
     "text": [
      "Step 0: loss=1.1269\n",
      "Step 30: loss=1.1237\n",
      "Step 60: loss=1.1123\n",
      "Step 90: loss=1.0894\n",
      "Step 120: loss=1.0552\n",
      "Step 150: loss=1.0100\n",
      "Step 180: loss=0.9613\n",
      "Step 210: loss=0.9018\n",
      "Step 240: loss=0.8503\n",
      "Step 270: loss=0.7977\n",
      "Step 300: loss=0.7576\n",
      "Step 330: loss=0.7272\n",
      "Step 360: loss=0.7109\n",
      "Step 390: loss=0.7003\n",
      "Step 420: loss=0.6972\n",
      "Step 450: loss=0.6948\n",
      "Step 480: loss=0.6933\n",
      "Step 510: loss=0.6933\n",
      "Step 540: loss=0.6931\n",
      "Step 570: loss=0.6932\n",
      "Step 600: loss=0.6932\n",
      "Step 630: loss=0.6931\n",
      "Step 660: loss=0.6932\n",
      "Step 690: loss=0.6932\n",
      "Step 720: loss=0.6931\n",
      "Step 750: loss=0.6932\n",
      "Step 780: loss=0.6931\n",
      "Step 810: loss=0.6932\n",
      "Step 840: loss=0.6931\n",
      "Step 870: loss=0.6931\n",
      "Step 900: loss=0.6931\n",
      "Step 930: loss=0.6931\n",
      "Step 960: loss=0.6931\n",
      "Step 990: loss=0.6932\n"
     ]
    }
   ],
   "source": [
    "# train the first layer\n",
    "\n",
    "losses = []\n",
    "positive_gs = []\n",
    "negative_gs = []\n",
    "\n",
    "for i in range(STEPS):\n",
    "    x, y = next(iter(trainloader))\n",
    "    x = x.numpy()\n",
    "    y = y.numpy()\n",
    "\n",
    "    x_p = overlay_y_on_x(np.squeeze(x), y)\n",
    "    x_n = overlay_y_on_x(np.squeeze(x), permute_label(y))\n",
    "\n",
    "    if BATCH_SIZE > 1:\n",
    "        x_p = jax.vmap(jnp.ravel)(x_p)\n",
    "        x_n = jax.vmap(jnp.ravel)(x_n)\n",
    "\n",
    "    loss, g_pos, g_neg = model.train_layer(\n",
    "        0,\n",
    "        x_p,\n",
    "        x_n,\n",
    "        batch = BATCH_SIZE > 1,\n",
    "        batch_index=0\n",
    "    )\n",
    "\n",
    "    losses.append(loss)\n",
    "    positive_gs.append(g_pos)\n",
    "    negative_gs.append(g_neg)\n",
    "\n",
    "    if i % PRINT_EVERY == 0:\n",
    "        print(f\"Step {i}: loss={loss:.4f}\")"
   ]
  },
  {
   "cell_type": "code",
   "execution_count": 15,
   "metadata": {},
   "outputs": [
    {
     "data": {
      "image/png": "[encoded data removed]",
      "text/plain": [
       "<Figure size 640x480 with 1 Axes>"
      ]
     },
     "metadata": {},
     "output_type": "display_data"
    }
   ],
   "source": [
    "plt.plot(losses, label=\"Layer 1 Training Loss\")\n",
    "plt.xlabel(\"Step\")\n",
    "plt.ylabel(\"Loss\")\n",
    "plt.legend()\n",
    "plt.show()"
   ]
  },
  {
   "cell_type": "code",
   "execution_count": 16,
   "metadata": {},
   "outputs": [
    {
     "name": "stdout",
     "output_type": "stream",
     "text": [
      "Step 0: loss=1.1268\n",
      "Step 30: loss=1.1248\n",
      "Step 60: loss=1.1186\n",
      "Step 90: loss=1.1068\n",
      "Step 120: loss=1.0890\n",
      "Step 150: loss=1.0654\n",
      "Step 180: loss=1.0366\n",
      "Step 210: loss=1.0035\n",
      "Step 240: loss=0.9671\n",
      "Step 270: loss=0.9285\n",
      "Step 300: loss=0.8896\n",
      "Step 330: loss=0.8515\n",
      "Step 360: loss=0.8161\n",
      "Step 390: loss=0.7847\n",
      "Step 420: loss=0.7582\n",
      "Step 450: loss=0.7370\n",
      "Step 480: loss=0.7213\n",
      "Step 510: loss=0.7102\n",
      "Step 540: loss=0.7030\n",
      "Step 570: loss=0.6985\n",
      "Step 600: loss=0.6959\n",
      "Step 630: loss=0.6945\n",
      "Step 660: loss=0.6938\n",
      "Step 690: loss=0.6934\n",
      "Step 720: loss=0.6933\n",
      "Step 750: loss=0.6932\n",
      "Step 780: loss=0.6932\n",
      "Step 810: loss=0.6932\n",
      "Step 840: loss=0.6932\n",
      "Step 870: loss=0.6932\n",
      "Step 900: loss=0.6931\n",
      "Step 930: loss=0.6931\n",
      "Step 960: loss=0.6931\n",
      "Step 990: loss=0.6931\n"
     ]
    }
   ],
   "source": [
    "# train the second layer\n",
    "\n",
    "losses_2 = []\n",
    "\n",
    "for i in range(STEPS):\n",
    "    x, y = next(iter(trainloader))\n",
    "    x = x.numpy()\n",
    "    y = y.numpy()\n",
    "\n",
    "    x_p = overlay_y_on_x(np.squeeze(x), y)\n",
    "    x_n = overlay_y_on_x(np.squeeze(x), permute_label(y))\n",
    "\n",
    "    if BATCH_SIZE > 1:\n",
    "        x_p = jax.vmap(jnp.ravel)(x_p)\n",
    "        x_n = jax.vmap(jnp.ravel)(x_n)\n",
    "    \n",
    "    x_p = model.layers[0].forward(x_p)\n",
    "    x_n = model.layers[0].forward(x_n)\n",
    "\n",
    "    loss, g_pos, g_neg = model.train_layer(\n",
    "        1,\n",
    "        x_p,\n",
    "        x_n,\n",
    "        batch = BATCH_SIZE > 1,\n",
    "        batch_index=0\n",
    "    )\n",
    "\n",
    "    losses_2.append(loss)\n",
    "\n",
    "    if i % PRINT_EVERY == 0:\n",
    "        print(f\"Step {i}: loss={loss:.4f}\")"
   ]
  },
  {
   "cell_type": "code",
   "execution_count": 17,
   "metadata": {},
   "outputs": [
    {
     "data": {
      "image/png": "[encoded data removed]",
      "text/plain": [
       "<Figure size 640x480 with 1 Axes>"
      ]
     },
     "metadata": {},
     "output_type": "display_data"
    }
   ],
   "source": [
    "plt.plot(losses_2, label=\"Layer 2 Training Loss\")\n",
    "plt.xlabel(\"Step\")\n",
    "plt.ylabel(\"Loss\")\n",
    "plt.legend()\n",
    "plt.show()"
   ]
  },
  {
   "cell_type": "code",
   "execution_count": 18,
   "metadata": {},
   "outputs": [
    {
     "name": "stdout",
     "output_type": "stream",
     "text": [
      "Step 0: loss=1.1268\n",
      "Step 30: loss=1.1255\n",
      "Step 60: loss=1.1218\n",
      "Step 90: loss=1.1148\n",
      "Step 120: loss=1.1044\n",
      "Step 150: loss=1.0905\n",
      "Step 180: loss=1.0732\n",
      "Step 210: loss=1.0529\n",
      "Step 240: loss=1.0299\n",
      "Step 270: loss=1.0046\n",
      "Step 300: loss=0.9775\n",
      "Step 330: loss=0.9491\n",
      "Step 360: loss=0.9200\n",
      "Step 390: loss=0.8908\n",
      "Step 420: loss=0.8623\n",
      "Step 450: loss=0.8349\n",
      "Step 480: loss=0.8094\n",
      "Step 510: loss=0.7863\n",
      "Step 540: loss=0.7660\n",
      "Step 570: loss=0.7485\n",
      "Step 600: loss=0.7341\n",
      "Step 630: loss=0.7226\n",
      "Step 660: loss=0.7137\n",
      "Step 690: loss=0.7071\n",
      "Step 720: loss=0.7023\n",
      "Step 750: loss=0.6990\n",
      "Step 780: loss=0.6968\n",
      "Step 810: loss=0.6953\n",
      "Step 840: loss=0.6945\n",
      "Step 870: loss=0.6939\n",
      "Step 900: loss=0.6936\n",
      "Step 930: loss=0.6934\n",
      "Step 960: loss=0.6933\n",
      "Step 990: loss=0.6932\n"
     ]
    }
   ],
   "source": [
    "# Train the final layer\n",
    "\n",
    "losses_3 = []\n",
    "\n",
    "for i in range(STEPS):\n",
    "    x, y = next(iter(trainloader))\n",
    "    x = x.numpy()\n",
    "    y = y.numpy()\n",
    "\n",
    "    x_p = overlay_y_on_x(np.squeeze(x), y)\n",
    "    x_n = overlay_y_on_x(np.squeeze(x), permute_label(y))\n",
    "\n",
    "    if BATCH_SIZE > 1:\n",
    "        x_p = jax.vmap(jnp.ravel)(x_p)\n",
    "        x_n = jax.vmap(jnp.ravel)(x_n)\n",
    "    \n",
    "    x_p = model.layers[0].forward(x_p)\n",
    "    x_p = model.layers[1].forward(x_p)\n",
    "\n",
    "    x_n = model.layers[0].forward(x_n)\n",
    "    x_n = model.layers[1].forward(x_n)\n",
    "\n",
    "    loss, g_pos, g_neg = model.train_layer(\n",
    "        2,\n",
    "        x_p,\n",
    "        x_n,\n",
    "        batch = BATCH_SIZE > 1,\n",
    "        batch_index=0\n",
    "    )\n",
    "\n",
    "    losses_3.append(loss)\n",
    "\n",
    "    if i % PRINT_EVERY == 0:\n",
    "        print(f\"Step {i}: loss={loss:.4f}\")"
   ]
  },
  {
   "cell_type": "code",
   "execution_count": 19,
   "metadata": {},
   "outputs": [
    {
     "data": {
      "image/png": "[encoded data removed]",
      "text/plain": [
       "<Figure size 640x480 with 1 Axes>"
      ]
     },
     "metadata": {},
     "output_type": "display_data"
    }
   ],
   "source": [
    "plt.plot(losses_3, label=\"Layer 3 Training Loss\")\n",
    "plt.xlabel(\"Step\")\n",
    "plt.ylabel(\"Loss\")\n",
    "plt.legend()\n",
    "plt.show()"
   ]
  },
  {
   "cell_type": "code",
   "execution_count": 20,
   "metadata": {},
   "outputs": [],
   "source": [
    "def predict(x: Array):\n",
    "    goodness_per_label = []\n",
    "    for label in range(10):\n",
    "        x_ = overlay_y_on_x(x, np.array([label]))\n",
    "        x_ = np.ravel(x_)\n",
    "        x_ = np.expand_dims(x_, axis=0)\n",
    "        goodness = 0.0\n",
    "        for layer in model.layers:\n",
    "            g = layer.goodness(x_)\n",
    "            goodness += g\n",
    "            x_ = layer.forward(x_)\n",
    "        goodness_per_label.append(goodness.item())\n",
    "    return np.argmax(goodness_per_label), goodness_per_label"
   ]
  },
  {
   "cell_type": "code",
   "execution_count": 27,
   "metadata": {},
   "outputs": [
    {
     "name": "stdout",
     "output_type": "stream",
     "text": [
      "Prediction: 1\n",
      "Goodnesses: [228.68331909179688, 228.829345703125, 228.73895263671875, 228.74752807617188, 228.77499389648438, 228.75747680664062, 228.756591796875, 228.788330078125, 228.74700927734375, 228.78594970703125]\n"
     ]
    },
    {
     "data": {
      "image/png": "[encoded data removed]",
      "text/plain": [
       "<Figure size 1000x500 with 1 Axes>"
      ]
     },
     "metadata": {},
     "output_type": "display_data"
    }
   ],
   "source": [
    "data = dummy_x[0]\n",
    "\n",
    "prediction, goodnesses = predict(data)\n",
    "\n",
    "print(f\"Prediction: {prediction}\")\n",
    "print(f\"Goodnesses: {goodnesses}\")\n",
    "\n",
    "# Normalize goodness values for better visualization\n",
    "normalized_goodness = [(g - min(goodnesses)) / (max(goodnesses) - min(goodnesses)) for g in goodnesses]\n",
    "\n",
    "plt.figure(figsize=(10, 5))\n",
    "plt.bar(range(10), normalized_goodness)\n",
    "plt.title('Goodness Score per Label')\n",
    "plt.xticks(range(10))\n",
    "plt.tick_params(top=True, labeltop=True, bottom=False, labelbottom=False)\n",
    "# plt.grid(axis='y', linestyle='--', alpha=0.7)\n",
    "\n",
    "plt.imshow(np.squeeze(data), cmap='gray')\n",
    "plt.title(f\"Prediction: {prediction}\")\n",
    "plt.show()"
   ]
  },
  {
   "cell_type": "code",
   "execution_count": 48,
   "metadata": {},
   "outputs": [
    {
     "name": "stdout",
     "output_type": "stream",
     "text": [
      "(100, 10)\n"
     ]
    }
   ],
   "source": [
    "goodnesses: list[list[float]] = []\n",
    "\n",
    "for i in range(len(dummy_x)):\n",
    "    data = dummy_x[i]\n",
    "    prediction, goodness = predict(data)\n",
    "    goodnesses.append(goodness)\n",
    "\n",
    "goodnesses = np.array(goodnesses)\n",
    "print(goodnesses.shape)"
   ]
  },
  {
   "cell_type": "code",
   "execution_count": 49,
   "metadata": {},
   "outputs": [
    {
     "name": "stdout",
     "output_type": "stream",
     "text": [
      "                                Goodnesses Vector                                 | Predicted Label\n",
      "====================================================================================================\n",
      "[228.683 228.829 228.739 228.748 228.775 228.757 228.757 228.788 228.747 228.786] | 1\n",
      "[251.494 251.662 251.558 251.568 251.6   251.58  251.579 251.615 251.567 251.612] | 1\n",
      "[233.433 233.585 233.491 233.5   233.528 233.51  233.509 233.542 233.499 233.54 ] | 1\n",
      "[248.413 248.577 248.475 248.485 248.516 248.496 248.495 248.531 248.485 248.528] | 1\n",
      "[268.823 269.005 268.893 268.903 268.937 268.916 268.915 268.954 268.903 268.951] | 1\n",
      "[259.477 259.652 259.544 259.554 259.587 259.566 259.565 259.603 259.553 259.6  ] | 1\n",
      "[251.475 251.645 251.54  251.55  251.582 251.561 251.56  251.597 251.549 251.594] | 1\n",
      "[263.938 264.115 264.005 264.016 264.049 264.028 264.027 264.065 264.015 264.062] | 1\n",
      "[254.599 254.77  254.664 254.674 254.706 254.686 254.685 254.722 254.673 254.719] | 1\n",
      "[242.319 242.479 242.38  242.389 242.419 242.4   242.399 242.434 242.389 242.431] | 1\n",
      "[232.096 232.245 232.152 232.161 232.189 232.171 232.17  232.203 232.161 232.2  ] | 1\n",
      "[263.121 263.3   263.189 263.2   263.233 263.212 263.211 263.25  263.199 263.247] | 1\n",
      "[248.547 248.712 248.61  248.62  248.651 248.631 248.63  248.666 248.619 248.663] | 1\n",
      "[251.865 252.035 251.93  251.94  251.972 251.952 251.951 251.988 251.939 251.985] | 1\n",
      "[246.577 246.742 246.64  246.65  246.681 246.661 246.66  246.696 246.649 246.693] | 1\n",
      "[220.794 220.929 220.845 220.853 220.879 220.863 220.862 220.891 220.853 220.889] | 1\n",
      "[260.539 260.715 260.606 260.617 260.65  260.629 260.627 260.666 260.616 260.663] | 1\n",
      "[244.84  245.001 244.901 244.911 244.941 244.922 244.921 244.956 244.91  244.953] | 1\n",
      "[238.875 239.03  238.934 238.943 238.972 238.954 238.953 238.986 238.942 238.984] | 1\n",
      "[241.989 242.147 242.049 242.058 242.088 242.069 242.068 242.103 242.058 242.1  ] | 1\n",
      "[246.889 247.055 246.952 246.962 246.993 246.973 246.972 247.008 246.961 247.005] | 1\n",
      "[244.194 244.356 244.256 244.265 244.296 244.276 244.275 244.31  244.265 244.308] | 1\n",
      "[220.007 220.141 220.058 220.066 220.091 220.075 220.074 220.103 220.065 220.101] | 1\n",
      "[242.561 242.722 242.622 242.632 242.662 242.643 242.642 242.677 242.631 242.674] | 1\n",
      "[253.526 253.697 253.591 253.601 253.633 253.613 253.612 253.649 253.601 253.646] | 1\n",
      "[227.564 227.707 227.618 227.627 227.654 227.637 227.636 227.667 227.626 227.665] | 1\n",
      "[251.945 252.113 252.009 252.019 252.05  252.03  252.029 252.066 252.018 252.063] | 1\n",
      "[239.976 240.131 240.035 240.044 240.073 240.055 240.054 240.088 240.044 240.085] | 1\n",
      "[266.36  266.543 266.43  266.44  266.475 266.453 266.452 266.492 266.44  266.489] | 1\n",
      "[251.797 251.965 251.861 251.871 251.902 251.882 251.881 251.918 251.87  251.915] | 1\n",
      "[240.65  240.806 240.709 240.719 240.748 240.729 240.728 240.762 240.718 240.76 ] | 1\n",
      "[269.032 269.213 269.101 269.112 269.146 269.124 269.123 269.163 269.111 269.16 ] | 1\n",
      "[241.791 241.952 241.852 241.862 241.892 241.873 241.872 241.907 241.861 241.904] | 1\n",
      "[242.565 242.725 242.626 242.635 242.665 242.646 242.645 242.68  242.635 242.677] | 1\n",
      "[250.305 250.472 250.369 250.378 250.41  250.39  250.389 250.425 250.378 250.423] | 1\n",
      "[259.432 259.609 259.5   259.51  259.543 259.522 259.521 259.559 259.509 259.556] | 1\n",
      "[225.282 225.423 225.336 225.344 225.371 225.354 225.353 225.384 225.344 225.382] | 1\n",
      "[259.531 259.705 259.597 259.607 259.64  259.619 259.618 259.656 259.607 259.653] | 1\n",
      "[226.092 226.234 226.146 226.155 226.181 226.164 226.163 226.194 226.154 226.192] | 1\n",
      "[263.804 263.981 263.872 263.882 263.915 263.894 263.893 263.931 263.881 263.929] | 1\n",
      "[250.186 250.352 250.249 250.259 250.29  250.27  250.269 250.305 250.259 250.303] | 1\n",
      "[238.749 238.906 238.808 238.818 238.847 238.828 238.827 238.861 238.817 238.859] | 1\n",
      "[242.493 242.652 242.554 242.563 242.593 242.574 242.573 242.608 242.562 242.605] | 1\n",
      "[242.777 242.938 242.838 242.848 242.878 242.859 242.858 242.893 242.847 242.89 ] | 1\n",
      "[236.514 236.666 236.572 236.581 236.61  236.591 236.59  236.623 236.58  236.621] | 1\n",
      "[236.23  236.383 236.288 236.297 236.326 236.308 236.307 236.34  236.297 236.337] | 1\n",
      "[227.391 227.534 227.445 227.454 227.481 227.464 227.463 227.494 227.453 227.492] | 1\n",
      "[271.786 271.97  271.856 271.867 271.901 271.879 271.878 271.918 271.866 271.915] | 1\n",
      "[245.521 245.684 245.583 245.592 245.623 245.603 245.602 245.638 245.592 245.635] | 1\n",
      "[223.723 223.861 223.776 223.784 223.81  223.793 223.793 223.823 223.784 223.82 ] | 1\n",
      "[251.368 251.536 251.432 251.442 251.473 251.453 251.452 251.489 251.441 251.486] | 1\n",
      "[249.11  249.278 249.174 249.184 249.215 249.195 249.194 249.231 249.183 249.228] | 1\n",
      "[249.765 249.932 249.829 249.839 249.87  249.85  249.849 249.885 249.838 249.883] | 1\n",
      "[235.939 236.092 235.998 236.007 236.035 236.017 236.016 236.049 236.006 236.047] | 1\n",
      "[244.492 244.654 244.554 244.563 244.594 244.575 244.574 244.609 244.563 244.606] | 1\n",
      "[255.187 255.358 255.252 255.262 255.295 255.274 255.273 255.31  255.262 255.307] | 1\n",
      "[253.671 253.841 253.736 253.746 253.778 253.757 253.756 253.793 253.745 253.79 ] | 1\n",
      "[224.935 225.074 224.988 224.996 225.022 225.006 225.005 225.035 224.996 225.033] | 1\n",
      "[237.279 237.434 237.338 237.347 237.377 237.358 237.357 237.391 237.347 237.388] | 1\n",
      "[225.728 225.869 225.781 225.79  225.816 225.799 225.798 225.829 225.789 225.827] | 1\n",
      "[231.14  231.288 231.196 231.205 231.233 231.215 231.214 231.246 231.205 231.244] | 1\n",
      "[235.177 235.33  235.235 235.244 235.273 235.254 235.254 235.287 235.243 235.284] | 1\n",
      "[249.804 249.971 249.868 249.878 249.909 249.889 249.888 249.924 249.877 249.922] | 1\n",
      "[255.585 255.758 255.651 255.661 255.694 255.673 255.672 255.71  255.661 255.707] | 1\n",
      "[232.754 232.903 232.811 232.82  232.847 232.83  232.829 232.861 232.819 232.859] | 1\n",
      "[252.423 252.592 252.487 252.497 252.529 252.509 252.508 252.544 252.496 252.542] | 1\n",
      "[239.12  239.277 239.18  239.189 239.219 239.2   239.199 239.233 239.189 239.231] | 1\n",
      "[258.023 258.197 258.089 258.099 258.132 258.111 258.11  258.148 258.099 258.145] | 1\n",
      "[243.856 244.016 243.917 243.926 243.957 243.937 243.936 243.971 243.926 243.969] | 1\n",
      "[233.595 233.746 233.652 233.661 233.69  233.671 233.671 233.703 233.661 233.701] | 1\n",
      "[264.038 264.216 264.106 264.116 264.15  264.128 264.127 264.166 264.116 264.163] | 1\n",
      "[234.064 234.217 234.123 234.132 234.16  234.142 234.141 234.174 234.131 234.172] | 1\n",
      "[264.902 265.08  264.97  264.98  265.014 264.993 264.991 265.03  264.98  265.027] | 1\n",
      "[260.312 260.488 260.379 260.389 260.422 260.401 260.4   260.439 260.389 260.436] | 1\n",
      "[273.496 273.682 273.567 273.578 273.613 273.59  273.589 273.629 273.577 273.626] | 1\n",
      "[246.886 247.048 246.948 246.957 246.988 246.968 246.967 247.003 246.957 247.   ] | 1\n",
      "[257.478 257.653 257.545 257.555 257.588 257.567 257.566 257.604 257.554 257.601] | 1\n",
      "[225.28  225.421 225.334 225.342 225.368 225.352 225.351 225.381 225.341 225.379] | 1\n",
      "[255.76  255.932 255.826 255.836 255.868 255.847 255.846 255.884 255.835 255.881] | 1\n",
      "[235.633 235.785 235.691 235.7   235.729 235.711 235.71  235.743 235.7   235.74 ] | 1\n",
      "[210.069 210.189 210.115 210.122 210.144 210.13  210.129 210.155 210.121 210.153] | 1\n",
      "[238.01  238.165 238.069 238.078 238.107 238.089 238.088 238.122 238.078 238.119] | 1\n",
      "[248.469 248.635 248.532 248.542 248.573 248.553 248.552 248.588 248.541 248.586] | 1\n",
      "[253.248 253.42  253.313 253.323 253.356 253.335 253.334 253.371 253.323 253.369] | 1\n",
      "[238.802 238.957 238.861 238.87  238.899 238.881 238.88  238.913 238.87  238.911] | 1\n",
      "[246.186 246.349 246.248 246.258 246.288 246.269 246.268 246.303 246.257 246.301] | 1\n",
      "[240.224 240.381 240.284 240.293 240.322 240.304 240.303 240.337 240.292 240.334] | 1\n",
      "[261.205 261.383 261.273 261.284 261.317 261.296 261.295 261.333 261.283 261.33 ] | 1\n",
      "[239.679 239.833 239.738 239.747 239.776 239.758 239.757 239.79  239.746 239.788] | 1\n",
      "[253.    253.171 253.065 253.076 253.108 253.087 253.086 253.123 253.075 253.12 ] | 1\n",
      "[246.103 246.267 246.166 246.175 246.206 246.186 246.186 246.221 246.175 246.218] | 1\n",
      "[260.483 260.658 260.55  260.56  260.593 260.572 260.571 260.609 260.56  260.606] | 1\n",
      "[259.784 259.959 259.851 259.861 259.894 259.873 259.872 259.91  259.861 259.907] | 1\n",
      "[229.043 229.188 229.098 229.107 229.134 229.117 229.116 229.147 229.106 229.145] | 1\n",
      "[234.974 235.125 235.031 235.04  235.068 235.05  235.049 235.082 235.039 235.08 ] | 1\n",
      "[270.934 271.117 271.004 271.015 271.049 271.027 271.026 271.066 271.014 271.063] | 1\n",
      "[245.093 245.255 245.154 245.164 245.194 245.175 245.174 245.209 245.163 245.207] | 1\n",
      "[249.74  249.907 249.804 249.814 249.845 249.825 249.824 249.86  249.813 249.858] | 1\n",
      "[248.301 248.467 248.365 248.374 248.405 248.386 248.385 248.421 248.374 248.418] | 1\n",
      "[237.909 238.064 237.968 237.977 238.007 237.988 237.987 238.021 237.977 238.018] | 1\n"
     ]
    }
   ],
   "source": [
    "# Set numpy print options to display 100 columns and 3 decimal places\n",
    "np.set_printoptions(linewidth=100, precision=3, suppress=True)\n",
    "\n",
    "print(f\"{\"Goodnesses Vector\".center(81)} | Predicted Label\")\n",
    "print(\"=\" * 100)\n",
    "for g in goodnesses:\n",
    "    print(f\"{g} | {np.argmax(g)}\")"
   ]
  },
  {
   "cell_type": "code",
   "execution_count": null,
   "metadata": {},
   "outputs": [],
   "source": [
    "# predict on test set\n",
    "\n",
    "correct = 0\n",
    "total = 0\n",
    "\n",
    "for i, (x, y) in enumerate(testloader):\n",
    "    print(i)\n",
    "    x = x.numpy()\n",
    "    y = y.numpy()\n",
    "\n",
    "    print(x.shape)\n",
    "\n",
    "    for i in range(len(x)):\n",
    "        prediction, _ = predict(x[i])\n",
    "        if prediction == y[i]:\n",
    "            correct += 1\n",
    "        total += 1\n",
    "\n",
    "print(f\"Accuracy: {correct/total:.4f}\")"
   ]
  }
 ],
 "metadata": {
  "kernelspec": {
   "display_name": "ffax",
   "language": "python",
   "name": "python3"
  },
  "language_info": {
   "codemirror_mode": {
    "name": "ipython",
    "version": 3
   },
   "file_extension": ".py",
   "mimetype": "text/x-python",
   "name": "python",
   "nbconvert_exporter": "python",
   "pygments_lexer": "ipython3",
   "version": "3.13.2"
  }
 },
 "nbformat": 4,
 "nbformat_minor": 2
}
