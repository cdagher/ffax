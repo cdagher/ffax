{
 "cells": [
  {
   "cell_type": "code",
   "execution_count": 1,
   "metadata": {},
   "outputs": [],
   "source": [
    "import numpy as np\n",
    "from matplotlib import pyplot as plt\n",
    "\n",
    "import equinox as eqx\n",
    "import jax\n",
    "import jax.numpy as jnp\n",
    "import jax.random as jr\n",
    "import optax  # https://github.com/deepmind/optax\n",
    "import torch  # https://pytorch.org\n",
    "import torchvision  # https://pytorch.org\n",
    "from jaxtyping import Array, Float, Int, PyTree  # https://github.com/google/jaxtyping"
   ]
  },
  {
   "cell_type": "code",
   "execution_count": 2,
   "metadata": {},
   "outputs": [],
   "source": [
    "from nn import Module, Network"
   ]
  },
  {
   "cell_type": "code",
   "execution_count": 27,
   "metadata": {},
   "outputs": [],
   "source": [
    "# Hyperparameters\n",
    "\n",
    "BATCH_SIZE = 1\n",
    "LEARNING_RATE = 1e-3\n",
    "STEPS = 10000\n",
    "PRINT_EVERY = 1000\n",
    "SEED = 1234"
   ]
  },
  {
   "cell_type": "code",
   "execution_count": 4,
   "metadata": {},
   "outputs": [],
   "source": [
    "normalise_data = torchvision.transforms.Compose(\n",
    "    [\n",
    "        torchvision.transforms.ToTensor(),\n",
    "        torchvision.transforms.Normalize((0.5,), (0.5,)),\n",
    "    ]\n",
    ")\n",
    "train_dataset = torchvision.datasets.MNIST(\n",
    "    \"MNIST\",\n",
    "    train=True,\n",
    "    download=True,\n",
    "    transform=normalise_data,\n",
    ")\n",
    "test_dataset = torchvision.datasets.MNIST(\n",
    "    \"MNIST\",\n",
    "    train=False,\n",
    "    download=True,\n",
    "    transform=normalise_data,\n",
    ")\n",
    "trainloader = torch.utils.data.DataLoader(\n",
    "    train_dataset, batch_size=BATCH_SIZE, shuffle=True\n",
    ")\n",
    "testloader = torch.utils.data.DataLoader(\n",
    "    test_dataset, batch_size=BATCH_SIZE, shuffle=True\n",
    ")"
   ]
  },
  {
   "cell_type": "code",
   "execution_count": 28,
   "metadata": {},
   "outputs": [
    {
     "name": "stdout",
     "output_type": "stream",
     "text": [
      "Network(\n",
      "goodness: 0.0,\n",
      "trainable layers: [0, 1],\n",
      "optimizer: GradientTransformationExtraArgs(init=<function chain.<locals>.init_fn at 0x7f5768fd59e0>, update=<function chain.<locals>.update_fn at 0x7f5768fd54e0>),\n",
      "Layer 0: Module(\n",
      "  _layer=Linear(\n",
      "    weight=f32[500,784],\n",
      "    bias=f32[500],\n",
      "    in_features=784,\n",
      "    out_features=500,\n",
      "    use_bias=True\n",
      "  ),\n",
      "  _activation=<function <lambda>>,\n",
      "  _goodness_fn=<function <lambda>>,\n",
      "  _opt_state=None,\n",
      "  _theta=2.0\n",
      "),\n",
      "Layer 1: Module(\n",
      "  _layer=Linear(\n",
      "    weight=f32[500,500],\n",
      "    bias=f32[500],\n",
      "    in_features=500,\n",
      "    out_features=500,\n",
      "    use_bias=True\n",
      "  ),\n",
      "  _activation=<function <lambda>>,\n",
      "  _goodness_fn=<function <lambda>>,\n",
      "  _opt_state=None,\n",
      "  _theta=2.0\n",
      "),\n",
      ")\n"
     ]
    }
   ],
   "source": [
    "layer1 = Module(\n",
    "    eqx.nn.Linear(\n",
    "        in_features=28*28,\n",
    "        out_features=500,\n",
    "        key=jr.PRNGKey(SEED)\n",
    "    )\n",
    ")\n",
    "layer2 = Module(\n",
    "    eqx.nn.Linear(\n",
    "        in_features=500,\n",
    "        out_features=500,\n",
    "        key=jr.PRNGKey(SEED)\n",
    "    )\n",
    ")\n",
    "# layer3 = Module(\n",
    "#     eqx.nn.Linear(\n",
    "#         in_features=500,\n",
    "#         out_features=10,\n",
    "#         key=jr.PRNGKey(SEED)\n",
    "#     )\n",
    "# )\n",
    "\n",
    "model = Network(\n",
    "    # [layer1, layer2, layer3],\n",
    "    [layer1, layer2],\n",
    "    optax.adam(LEARNING_RATE)\n",
    ")\n",
    "\n",
    "print(model)"
   ]
  },
  {
   "cell_type": "code",
   "execution_count": 6,
   "metadata": {},
   "outputs": [
    {
     "name": "stdout",
     "output_type": "stream",
     "text": [
      "(1, 1, 28, 28)\n",
      "(1,)\n"
     ]
    }
   ],
   "source": [
    "dummy_x, dummy_y = next(iter(trainloader))\n",
    "dummy_x = dummy_x.numpy()\n",
    "dummy_y = dummy_y.numpy()\n",
    "print(dummy_x.shape)  # BATCH_SIZEx1x28x28\n",
    "print(dummy_y.shape)  # BATCH_SIZE"
   ]
  },
  {
   "cell_type": "code",
   "execution_count": 7,
   "metadata": {},
   "outputs": [],
   "source": [
    "def overlay_y_on_x(x: Array, y: Array):\n",
    "    \"\"\"\n",
    "    Replace the first 10 pixels of data [x] with one-hot-encoded label [y]\n",
    "    \"\"\"\n",
    "    x_ = jnp.ravel(x)\n",
    "    x_ = x_.at[:10].set(jax.nn.one_hot(y, 10).squeeze())\n",
    "\n",
    "    return x_.reshape(x.shape)\n",
    "\n",
    "if BATCH_SIZE > 1:\n",
    "    overlay_y_on_x = eqx.filter_vmap(overlay_y_on_x)"
   ]
  },
  {
   "cell_type": "code",
   "execution_count": 8,
   "metadata": {},
   "outputs": [],
   "source": [
    "def permute_label(n: Int, y: Array):\n",
    "    \"\"\"\n",
    "    Permute the labels of the data [y]\n",
    "    \"\"\"\n",
    "    if isinstance(y, int):\n",
    "        # For single label, return a random value different from y\n",
    "        return (y + jr.randint(jr.PRNGKey(n), (), 1, 10)) % 10\n",
    "    else:\n",
    "        # For batch of labels, return random values different from each label\n",
    "        key = jr.PRNGKey(n)\n",
    "        offsets = jr.randint(key, shape=y.shape, minval=1, maxval=10)\n",
    "        return (y + offsets) % 10"
   ]
  },
  {
   "cell_type": "code",
   "execution_count": 9,
   "metadata": {},
   "outputs": [
    {
     "data": {
      "image/png": "[encoded data removed]",
      "text/plain": [
       "<Figure size 1200x600 with 2 Axes>"
      ]
     },
     "metadata": {},
     "output_type": "display_data"
    }
   ],
   "source": [
    "dummy_x_p = overlay_y_on_x(np.squeeze(dummy_x), dummy_y)\n",
    "dummy_x_n = overlay_y_on_x(np.squeeze(dummy_x), permute_label(10, dummy_y))\n",
    "\n",
    "if BATCH_SIZE > 1:\n",
    "    show = (dummy_x_p[0], dummy_x_n[0])\n",
    "else:\n",
    "    show = (dummy_x_p, dummy_x_n)\n",
    "\n",
    "ax = plt.subplot(1, 2, 1)\n",
    "ax.set_xticks([])\n",
    "ax.set_yticks([])\n",
    "ax.imshow(show[0], cmap='gray')\n",
    "ax.set_title(\"Positive Data\")\n",
    "ax = plt.subplot(1, 2, 2)\n",
    "ax.set_xticks([])\n",
    "ax.set_yticks([])\n",
    "ax.imshow(show[1], cmap='gray')\n",
    "ax.set_title(\"Negative Data\")\n",
    "plt.gcf().set_size_inches(12, 6)\n",
    "plt.show()"
   ]
  },
  {
   "cell_type": "code",
   "execution_count": 29,
   "metadata": {},
   "outputs": [
    {
     "name": "stdout",
     "output_type": "stream",
     "text": [
      "Step 0: loss=1.1268\n",
      "Step 1000: loss=0.6956\n",
      "Step 2000: loss=0.6926\n",
      "Step 3000: loss=0.6918\n",
      "Step 4000: loss=0.6943\n",
      "Step 5000: loss=0.6978\n",
      "Step 6000: loss=0.6890\n",
      "Step 7000: loss=0.6985\n",
      "Step 8000: loss=0.6876\n",
      "Step 9000: loss=0.6948\n"
     ]
    }
   ],
   "source": [
    "# train the first layer\n",
    "\n",
    "losses = []\n",
    "positive_gs = []\n",
    "negative_gs = []\n",
    "\n",
    "for i in range(STEPS):\n",
    "    x, y = next(iter(trainloader))\n",
    "    x = x.numpy()\n",
    "    y = y.numpy()\n",
    "\n",
    "    x_p = overlay_y_on_x(np.squeeze(x), y)\n",
    "    x_n = overlay_y_on_x(np.squeeze(x), permute_label(10, y))\n",
    "\n",
    "    if BATCH_SIZE > 1:\n",
    "        x_p = jax.vmap(jnp.ravel)(x_p)\n",
    "        x_n = jax.vmap(jnp.ravel)(x_n)\n",
    "    else:\n",
    "        x_p = jnp.ravel(x_p)\n",
    "        x_n = jnp.ravel(x_n)\n",
    "\n",
    "    loss, g_pos, g_neg = model.train_layer(\n",
    "        0,\n",
    "        x_p,\n",
    "        x_n,\n",
    "        batch = BATCH_SIZE > 1,\n",
    "        batch_index=0\n",
    "    )\n",
    "\n",
    "    losses.append(loss)\n",
    "    positive_gs.append(g_pos)\n",
    "    negative_gs.append(g_neg)\n",
    "\n",
    "    if i % PRINT_EVERY == 0:\n",
    "        print(f\"Step {i}: loss={loss:.4f}\")"
   ]
  },
  {
   "cell_type": "code",
   "execution_count": 30,
   "metadata": {},
   "outputs": [
    {
     "data": {
      "image/png": "[encoded data removed]",
      "text/plain": [
       "<Figure size 640x480 with 1 Axes>"
      ]
     },
     "metadata": {},
     "output_type": "display_data"
    }
   ],
   "source": [
    "plt.plot(losses, label=\"Layer 1 Training Loss\")\n",
    "plt.xlabel(\"Step\")\n",
    "plt.ylabel(\"Loss\")\n",
    "plt.legend()\n",
    "plt.show()"
   ]
  },
  {
   "cell_type": "code",
   "execution_count": 31,
   "metadata": {},
   "outputs": [
    {
     "name": "stdout",
     "output_type": "stream",
     "text": [
      "Step 0: loss=1.1267\n",
      "Step 1000: loss=0.6960\n",
      "Step 2000: loss=0.6998\n",
      "Step 3000: loss=0.6934\n",
      "Step 4000: loss=0.6959\n",
      "Step 5000: loss=0.6938\n",
      "Step 6000: loss=0.6929\n",
      "Step 7000: loss=0.6930\n",
      "Step 8000: loss=0.6892\n",
      "Step 9000: loss=0.6924\n"
     ]
    }
   ],
   "source": [
    "# train the second layer\n",
    "\n",
    "losses_2 = []\n",
    "\n",
    "for i in range(STEPS):\n",
    "    x, y = next(iter(trainloader))\n",
    "    x = x.numpy()\n",
    "    y = y.numpy()\n",
    "\n",
    "    x_p = overlay_y_on_x(np.squeeze(x), y)\n",
    "    x_n = overlay_y_on_x(np.squeeze(x), permute_label(10, y))\n",
    "\n",
    "    if BATCH_SIZE > 1:\n",
    "        x_p = jax.vmap(jnp.ravel)(x_p)\n",
    "        x_n = jax.vmap(jnp.ravel)(x_n)\n",
    "\n",
    "        x_p = model.layers[0].forward(x_p)\n",
    "        x_n = model.layers[0].forward(x_n)\n",
    "    else:\n",
    "        x_p = jnp.ravel(x_p)\n",
    "        x_n = jnp.ravel(x_n)\n",
    "\n",
    "        x_p = model.layers[0].forward(jnp.expand_dims(x_p, 0))\n",
    "        x_n = model.layers[0].forward(jnp.expand_dims(x_n, 0))\n",
    "\n",
    "        x_p = jnp.squeeze(x_p)\n",
    "        x_n = jnp.squeeze(x_n)\n",
    "\n",
    "    loss, g_pos, g_neg = model.train_layer(\n",
    "        1,\n",
    "        x_p,\n",
    "        x_n,\n",
    "        batch = BATCH_SIZE > 1,\n",
    "        batch_index=0\n",
    "    )\n",
    "\n",
    "    losses_2.append(loss)\n",
    "\n",
    "    if i % PRINT_EVERY == 0:\n",
    "        print(f\"Step {i}: loss={loss:.4f}\")"
   ]
  },
  {
   "cell_type": "code",
   "execution_count": 32,
   "metadata": {},
   "outputs": [
    {
     "data": {
      "image/png": "[encoded data removed]",
      "text/plain": [
       "<Figure size 640x480 with 1 Axes>"
      ]
     },
     "metadata": {},
     "output_type": "display_data"
    }
   ],
   "source": [
    "plt.plot(losses_2, label=\"Layer 2 Training Loss\")\n",
    "plt.xlabel(\"Step\")\n",
    "plt.ylabel(\"Loss\")\n",
    "plt.legend()\n",
    "plt.show()"
   ]
  },
  {
   "cell_type": "code",
   "execution_count": 33,
   "metadata": {},
   "outputs": [],
   "source": [
    "def predict(x: Array):\n",
    "    goodness_per_label = []\n",
    "    for label in range(10):\n",
    "        x_ = overlay_y_on_x(x, np.array([label]))\n",
    "        x_ = np.ravel(x_)\n",
    "        x_ = np.expand_dims(x_, axis=0)\n",
    "        goodness = 0.0\n",
    "        for layer in model.layers:\n",
    "            g = layer.goodness(x_)\n",
    "            goodness += g\n",
    "            x_ = layer.forward(x_)\n",
    "        goodness_per_label.append(goodness.item())\n",
    "    return np.argmax(goodness_per_label), goodness_per_label"
   ]
  },
  {
   "cell_type": "code",
   "execution_count": 34,
   "metadata": {},
   "outputs": [
    {
     "name": "stdout",
     "output_type": "stream",
     "text": [
      "Prediction: 1\n",
      "Goodnesses: [4.030139446258545, 4.083370685577393, 4.031888961791992, 4.014070987701416, 4.047413349151611, 4.011194229125977, 4.0548834800720215, 4.0486650466918945, 4.0524163246154785, 4.060450553894043]\n"
     ]
    },
    {
     "data": {
      "image/png": "[encoded data removed]",
      "text/plain": [
       "<Figure size 1000x500 with 1 Axes>"
      ]
     },
     "metadata": {},
     "output_type": "display_data"
    }
   ],
   "source": [
    "if BATCH_SIZE > 1:\n",
    "    data = dummy_x[1]\n",
    "else:\n",
    "    data = dummy_x\n",
    "\n",
    "prediction, goodnesses = predict(data)\n",
    "\n",
    "print(f\"Prediction: {prediction}\")\n",
    "print(f\"Goodnesses: {goodnesses}\")\n",
    "\n",
    "# Normalize goodness values for better visualization\n",
    "normalized_goodness = [(g - min(goodnesses)) / (max(goodnesses) - min(goodnesses)) for g in goodnesses]\n",
    "\n",
    "plt.figure(figsize=(10, 5))\n",
    "plt.bar(range(10), normalized_goodness)\n",
    "plt.title('Goodness Score per Label')\n",
    "plt.xticks(range(10))\n",
    "plt.tick_params(top=True, labeltop=True, bottom=False, labelbottom=False)\n",
    "# plt.grid(axis='y', linestyle='--', alpha=0.7)\n",
    "\n",
    "plt.imshow(np.squeeze(data), cmap='gray')\n",
    "plt.title(f\"Prediction: {prediction}\")\n",
    "plt.show()"
   ]
  },
  {
   "cell_type": "code",
   "execution_count": 35,
   "metadata": {},
   "outputs": [
    {
     "name": "stdout",
     "output_type": "stream",
     "text": [
      "(1, 10)\n"
     ]
    }
   ],
   "source": [
    "goodnesses: list[list[float]] = []\n",
    "\n",
    "for i in range(len(dummy_x)):\n",
    "    data = dummy_x[i]\n",
    "    prediction, goodness = predict(data)\n",
    "    goodnesses.append(goodness)\n",
    "\n",
    "goodnesses = np.array(goodnesses)\n",
    "print(goodnesses.shape)"
   ]
  },
  {
   "cell_type": "code",
   "execution_count": 36,
   "metadata": {},
   "outputs": [
    {
     "name": "stdout",
     "output_type": "stream",
     "text": [
      "                                Goodnesses Vector                                 | Predicted Label\n",
      "====================================================================================================\n",
      "[4.03  4.083 4.032 4.014 4.047 4.011 4.055 4.049 4.052 4.06 ] | 1 | 4.083 | 5 | 4.011\n"
     ]
    }
   ],
   "source": [
    "# Set numpy print options to display 100 columns and 3 decimal places\n",
    "np.set_printoptions(linewidth=100, precision=3, suppress=True)\n",
    "\n",
    "print(f\"{\"Goodnesses Vector\".center(81)} | Predicted Label\")\n",
    "print(\"=\" * 100)\n",
    "for g in goodnesses:\n",
    "    print(f\"{g} | {np.argmax(g)} | {np.max(g):.3f} | {np.argmin(g)} | {np.min(g):.3f}\")"
   ]
  },
  {
   "cell_type": "code",
   "execution_count": null,
   "metadata": {},
   "outputs": [
    {
     "name": "stdout",
     "output_type": "stream",
     "text": [
      "Accuracy: 0.1871curacy: 0.1871\n"
     ]
    }
   ],
   "source": [
    "# predict on test set\n",
    "\n",
    "correct = 0\n",
    "total = 0\n",
    "\n",
    "for i, (x, y) in enumerate(testloader):\n",
    "    print(f\"{i+1}/{len(testloader)} | Accuracy: {correct/(total+1):.4f}\", end=\"\\r\")\n",
    "    x = x.numpy()\n",
    "    y = y.numpy()\n",
    "\n",
    "    # print(x.shape)\n",
    "\n",
    "    for i in range(len(x)):\n",
    "        prediction, _ = predict(x[i])\n",
    "        if prediction == y[i]:\n",
    "            correct += 1\n",
    "        total += 1\n",
    "\n",
    "print(f\"\\nAccuracy: {correct/total:.4f}\")"
   ]
  }
 ],
 "metadata": {
  "kernelspec": {
   "display_name": "ffax",
   "language": "python",
   "name": "python3"
  },
  "language_info": {
   "codemirror_mode": {
    "name": "ipython",
    "version": 3
   },
   "file_extension": ".py",
   "mimetype": "text/x-python",
   "name": "python",
   "nbconvert_exporter": "python",
   "pygments_lexer": "ipython3",
   "version": "3.13.2"
  }
 },
 "nbformat": 4,
 "nbformat_minor": 2
}
