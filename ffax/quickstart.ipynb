{
 "cells": [
  {
   "cell_type": "code",
   "execution_count": 1,
   "metadata": {},
   "outputs": [],
   "source": [
    "import numpy as np\n",
    "from matplotlib import pyplot as plt\n",
    "\n",
    "import equinox as eqx\n",
    "import jax\n",
    "import jax.numpy as jnp\n",
    "import jax.random as jr\n",
    "import optax  # https://github.com/deepmind/optax\n",
    "import torch  # https://pytorch.org\n",
    "import torchvision  # https://pytorch.org\n",
    "from jaxtyping import Array, Float, Int, PyTree  # https://github.com/google/jaxtyping"
   ]
  },
  {
   "cell_type": "code",
   "execution_count": 2,
   "metadata": {},
   "outputs": [],
   "source": [
    "import equinox as eqx\n",
    "from nn import Module, Network"
   ]
  },
  {
   "cell_type": "code",
   "execution_count": 3,
   "metadata": {},
   "outputs": [],
   "source": [
    "# Hyperparameters\n",
    "\n",
    "BATCH_SIZE = 1\n",
    "LEARNING_RATE = 3e-4\n",
    "STEPS = 300\n",
    "PRINT_EVERY = 30\n",
    "SEED = 5678"
   ]
  },
  {
   "cell_type": "code",
   "execution_count": 4,
   "metadata": {},
   "outputs": [],
   "source": [
    "normalise_data = torchvision.transforms.Compose(\n",
    "    [\n",
    "        torchvision.transforms.ToTensor(),\n",
    "        torchvision.transforms.Normalize((0.5,), (0.5,)),\n",
    "    ]\n",
    ")\n",
    "train_dataset = torchvision.datasets.MNIST(\n",
    "    \"MNIST\",\n",
    "    train=True,\n",
    "    download=True,\n",
    "    transform=normalise_data,\n",
    ")\n",
    "test_dataset = torchvision.datasets.MNIST(\n",
    "    \"MNIST\",\n",
    "    train=False,\n",
    "    download=True,\n",
    "    transform=normalise_data,\n",
    ")\n",
    "trainloader = torch.utils.data.DataLoader(\n",
    "    train_dataset, batch_size=BATCH_SIZE, shuffle=True\n",
    ")\n",
    "testloader = torch.utils.data.DataLoader(\n",
    "    test_dataset, batch_size=BATCH_SIZE, shuffle=True\n",
    ")"
   ]
  },
  {
   "cell_type": "code",
   "execution_count": 5,
   "metadata": {},
   "outputs": [
    {
     "name": "stdout",
     "output_type": "stream",
     "text": [
      "Network(\n",
      "goodness: 0.0,\n",
      "trainable layers: [0, 1],\n",
      "optimizer: GradientTransformationExtraArgs(init=<function chain.<locals>.init_fn at 0x7f1c9c9862a0>, update=<function chain.<locals>.update_fn at 0x7f1c9c984e00>),\n",
      "Layer 0: Module(\n",
      "  _layer=Linear(\n",
      "    weight=f32[1024,784],\n",
      "    bias=f32[1024],\n",
      "    in_features=784,\n",
      "    out_features=1024,\n",
      "    use_bias=True\n",
      "  ),\n",
      "  _activation=<function <lambda>>,\n",
      "  _goodness_fn=<function <lambda>>,\n",
      "  _opt_state=None,\n",
      "  _theta=1.0\n",
      "),\n",
      "Layer 1: Module(\n",
      "  _layer=Linear(\n",
      "    weight=f32[10,1024],\n",
      "    bias=f32[10],\n",
      "    in_features=1024,\n",
      "    out_features=10,\n",
      "    use_bias=True\n",
      "  ),\n",
      "  _activation=<function softmax>,\n",
      "  _goodness_fn=<function <lambda>>,\n",
      "  _opt_state=None,\n",
      "  _theta=1.0\n",
      "),\n",
      ")\n"
     ]
    }
   ],
   "source": [
    "layer1 = Module(\n",
    "    eqx.nn.Linear(\n",
    "        in_features=28*28,\n",
    "        out_features=1024,\n",
    "        key=jr.PRNGKey(SEED)\n",
    "    )\n",
    ")\n",
    "layer2 = Module(\n",
    "    eqx.nn.Linear(\n",
    "        in_features=1024,\n",
    "        out_features=10,\n",
    "        key=jr.PRNGKey(SEED)\n",
    "    ),\n",
    "    jax.nn.softmax\n",
    ")\n",
    "\n",
    "model = Network(\n",
    "    [layer1, layer2],\n",
    "    optax.adam(LEARNING_RATE)\n",
    ")\n",
    "\n",
    "print(model)"
   ]
  },
  {
   "cell_type": "code",
   "execution_count": 6,
   "metadata": {},
   "outputs": [
    {
     "name": "stdout",
     "output_type": "stream",
     "text": [
      "(1, 1, 28, 28)\n",
      "(1,)\n",
      "[5]\n"
     ]
    }
   ],
   "source": [
    "dummy_x, dummy_y = next(iter(trainloader))\n",
    "dummy_x = dummy_x.numpy()\n",
    "dummy_y = dummy_y.numpy()\n",
    "print(dummy_x.shape)  # BATCH_SIZEx1x28x28\n",
    "print(dummy_y.shape)  # BATCH_SIZE\n",
    "print(dummy_y)"
   ]
  },
  {
   "cell_type": "code",
   "execution_count": 7,
   "metadata": {},
   "outputs": [],
   "source": [
    "def overlay_y_on_x(x: Array, y: Array):\n",
    "    \"\"\"\n",
    "    Replace the first 10 pixels of data [x] with one-hot-encoded label [y]\n",
    "    \"\"\"\n",
    "    x_ = jnp.ravel(x)\n",
    "    x_ = x_.at[:10].set(jnp.zeros((10,)))\n",
    "    x_ = x_.at[y.item()].set(1)\n",
    "\n",
    "    return x_.reshape(x.shape)\n"
   ]
  },
  {
   "cell_type": "code",
   "execution_count": 8,
   "metadata": {},
   "outputs": [
    {
     "data": {
      "image/png": "[encoded data removed]",
      "text/plain": [
       "<Figure size 640x480 with 2 Axes>"
      ]
     },
     "metadata": {},
     "output_type": "display_data"
    }
   ],
   "source": [
    "dummy_x_p = overlay_y_on_x(np.squeeze(dummy_x), dummy_y)\n",
    "dummy_x_n = overlay_y_on_x(np.squeeze(dummy_x), 9 - dummy_y) # arbitrary but incorrect label\n",
    "\n",
    "ax = plt.subplot(1, 2, 1)\n",
    "ax.set_xticks([])\n",
    "ax.set_yticks([])\n",
    "ax.imshow(dummy_x_p)\n",
    "ax.set_title(\"Correct label\")\n",
    "ax = plt.subplot(1, 2, 2)\n",
    "ax.set_xticks([])\n",
    "ax.set_yticks([])\n",
    "ax.imshow(dummy_x_n)\n",
    "ax.set_title(\"Incorrect label\")\n",
    "plt.show()"
   ]
  },
  {
   "cell_type": "code",
   "execution_count": 9,
   "metadata": {},
   "outputs": [
    {
     "name": "stdout",
     "output_type": "stream",
     "text": [
      "Step 0: p(positive)=0.3296\n",
      "Step 0: p(negative)=0.3842\n",
      "Step 30: p(positive)=0.3278\n",
      "Step 30: p(negative)=0.3495\n",
      "Step 60: p(positive)=0.3192\n",
      "Step 60: p(negative)=0.3338\n",
      "Step 90: p(positive)=0.3147\n",
      "Step 90: p(negative)=0.3357\n",
      "Step 120: p(positive)=0.3167\n",
      "Step 120: p(negative)=0.3286\n",
      "Step 150: p(positive)=0.3124\n",
      "Step 150: p(negative)=0.3237\n",
      "Step 180: p(positive)=0.3059\n",
      "Step 180: p(negative)=0.3185\n",
      "Step 210: p(positive)=0.3017\n",
      "Step 210: p(negative)=0.3142\n",
      "Step 240: p(positive)=0.3106\n",
      "Step 240: p(negative)=0.3207\n",
      "Step 270: p(positive)=0.3007\n",
      "Step 270: p(negative)=0.3091\n"
     ]
    }
   ],
   "source": [
    "# train the first layer\n",
    "for i in range(STEPS):\n",
    "    x, y = next(iter(trainloader))\n",
    "    x = x.numpy()\n",
    "    y = y.numpy()\n",
    "\n",
    "    x_p = overlay_y_on_x(np.squeeze(x), y)\n",
    "    x_n = overlay_y_on_x(np.squeeze(x), 9 - y)\n",
    "\n",
    "    p_p, _, _ = model.train_layer(0, np.ravel(x_p), True)\n",
    "    p_n, _, _ = model.train_layer(0, np.ravel(x_n), False)\n",
    "\n",
    "    if i % PRINT_EVERY == 0:\n",
    "        print(f\"Step {i}: p(positive)={p_p:.4f}\")\n",
    "        print(f\"Step {i}: p(negative)={p_n:.4f}\")"
   ]
  },
  {
   "cell_type": "code",
   "execution_count": 10,
   "metadata": {},
   "outputs": [
    {
     "name": "stdout",
     "output_type": "stream",
     "text": [
      "Step 0: p(positive)=0.2710\n",
      "Step 0: p(negative)=0.2710\n",
      "Step 30: p(positive)=0.2709\n",
      "Step 30: p(negative)=0.2709\n",
      "Step 60: p(positive)=0.2709\n",
      "Step 60: p(negative)=0.2709\n",
      "Step 90: p(positive)=0.2710\n",
      "Step 90: p(negative)=0.2710\n",
      "Step 120: p(positive)=0.2709\n",
      "Step 120: p(negative)=0.2709\n",
      "Step 150: p(positive)=0.2711\n",
      "Step 150: p(negative)=0.2711\n",
      "Step 180: p(positive)=0.2710\n",
      "Step 180: p(negative)=0.2710\n",
      "Step 210: p(positive)=0.2710\n",
      "Step 210: p(negative)=0.2710\n",
      "Step 240: p(positive)=0.2710\n",
      "Step 240: p(negative)=0.2710\n",
      "Step 270: p(positive)=0.2710\n",
      "Step 270: p(negative)=0.2710\n"
     ]
    }
   ],
   "source": [
    "# train the second layer\n",
    "for i in range(STEPS):\n",
    "    x, y = next(iter(trainloader))\n",
    "    x = x.numpy()\n",
    "    y = y.numpy()\n",
    "\n",
    "    x_p = overlay_y_on_x(np.squeeze(x), y)\n",
    "    x_n = overlay_y_on_x(np.squeeze(x), 9 - y)\n",
    "\n",
    "    x_p = model.layers[0].forward(np.ravel(x_p))\n",
    "    x_n = model.layers[0].forward(np.ravel(x_n))\n",
    "\n",
    "    p_p, _, _ = model.train_layer(1, np.ravel(x_p), True)\n",
    "    p_n, _, _ = model.train_layer(1, np.ravel(x_n), False)\n",
    "\n",
    "    if i % PRINT_EVERY == 0:\n",
    "        print(f\"Step {i}: p(positive)={p_p:.4f}\")\n",
    "        print(f\"Step {i}: p(negative)={p_n:.4f}\")"
   ]
  }
 ],
 "metadata": {
  "kernelspec": {
   "display_name": "ffax",
   "language": "python",
   "name": "python3"
  },
  "language_info": {
   "codemirror_mode": {
    "name": "ipython",
    "version": 3
   },
   "file_extension": ".py",
   "mimetype": "text/x-python",
   "name": "python",
   "nbconvert_exporter": "python",
   "pygments_lexer": "ipython3",
   "version": "3.13.2"
  }
 },
 "nbformat": 4,
 "nbformat_minor": 2
}
